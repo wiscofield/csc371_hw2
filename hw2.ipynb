{
 "cells": [
  {
   "cell_type": "code",
   "execution_count": 1,
   "id": "stuffed-schema",
   "metadata": {},
   "outputs": [],
   "source": [
    "import gzip\n",
    "import numpy as np\n",
    "import sklearn\n",
    "import matplotlib as plt\n",
    "\n",
    "# Import files using gzip\n",
    "def load_fashion():\n",
    "    TRAIN_IMAGES = 'train-images-idx3-ubyte.gz'\n",
    "    TRAIN_LABELS = 'train-labels-idx1-ubyte.gz'    \n",
    "    TEST_IMAGES = 't10k-images-idx3-ubyte.gz'\n",
    "    TEST_LABELS = 't10k-labels-idx1-ubyte.gz'\n",
    "\n",
    "    with gzip.open(TRAIN_LABELS, 'rb') as tr_labels_file, gzip.open(TEST_LABELS, 'rb') as ts_labels_file:\n",
    "        train_labels = np.frombuffer(tr_labels_file.read(), dtype=np.uint8, offset=8)\n",
    "        test_labels = np.frombuffer(ts_labels_file.read(), dtype=np.uint8, offset=8)\n",
    "\n",
    "    with gzip.open(TRAIN_IMAGES, 'rb') as tr_images_file, gzip.open(TEST_IMAGES, 'rb') as ts_images_file:\n",
    "        train_images = np.frombuffer(tr_images_file.read(), dtype=np.uint8, offset=16).reshape(len(train_labels), 784)\n",
    "        test_images = np.frombuffer(ts_images_file.read(), dtype=np.uint8, offset=16).reshape(len(test_labels), 784)\n",
    "\n",
    "    return train_images, train_labels, test_images, test_labels"
   ]
  },
  {
   "cell_type": "code",
   "execution_count": 2,
   "id": "spanish-destiny",
   "metadata": {},
   "outputs": [],
   "source": [
    "train_images, train_labels, test_images, test_labels = load_fashion()"
   ]
  },
  {
   "cell_type": "code",
   "execution_count": 7,
   "id": "reserved-corporation",
   "metadata": {},
   "outputs": [
    {
     "name": "stdout",
     "output_type": "stream",
     "text": [
      "0.8231\n"
     ]
    }
   ],
   "source": [
    "from sklearn.linear_model import SGDClassifier\n",
    "from sklearn.preprocessing import StandardScaler\n",
    "import sklearn.pipeline\n",
    "import sklearn.utils\n",
    "\n",
    "# Take smaller sample to look for errors for testing\n",
    "# samp_X, samp_Y = sklearn.utils.shuffle(train_images, train_labels, n_samples = 12000)\n",
    "\n",
    "classifier = sklearn.pipeline.make_pipeline(StandardScaler(), SGDClassifier(max_iter = 1500, tol = 1e-3)) \n",
    "# Default reg. is L2, default alpha is 0.0001\n",
    "classifier.fit(train_images, train_labels)\n",
    "# classifier.fit(samp_X, samp_Y)\n",
    "\n",
    "predictions = classifier.predict(test_images)\n",
    "acc_score = sklearn.metrics.accuracy_score(test_labels, predictions)\n",
    "print(acc_score)"
   ]
  },
  {
   "cell_type": "code",
   "execution_count": null,
   "id": "vulnerable-chamber",
   "metadata": {},
   "outputs": [],
   "source": [
    "# TODO: Confusion Matrix\n",
    "# Maybe we could cross-reference the predictions from our multiclass classifier\n",
    "# for one or more of the clothing types"
   ]
  },
  {
   "cell_type": "code",
   "execution_count": null,
   "id": "collected-former",
   "metadata": {},
   "outputs": [],
   "source": [
    "# NOTES:\n",
    "# Testing with a sample of 10% of the 60k, a convergence was found, resulting in an accuracy of 0.813\n",
    "# Same for a 20% sample, with acc of 0.8196. Gonna try the full thing now.\n",
    "# IT WORKEDDDD (At least I think it did). Ran with max_iter = 1500, tol = 1e-3 and got accuracy of 0.8231"
   ]
  }
 ],
 "metadata": {
  "kernelspec": {
   "display_name": "Python 3",
   "language": "python",
   "name": "python3"
  },
  "language_info": {
   "codemirror_mode": {
    "name": "ipython",
    "version": 3
   },
   "file_extension": ".py",
   "mimetype": "text/x-python",
   "name": "python",
   "nbconvert_exporter": "python",
   "pygments_lexer": "ipython3",
   "version": "3.7.9"
  }
 },
 "nbformat": 4,
 "nbformat_minor": 5
}
