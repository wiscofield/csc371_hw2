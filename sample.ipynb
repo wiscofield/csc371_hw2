{
 "cells": [
  {
   "cell_type": "code",
   "execution_count": 2,
   "id": "tough-absolute",
   "metadata": {},
   "outputs": [],
   "source": [
    "import gzip\n",
    "import numpy as np\n",
    "import matplotlib.pyplot as plt\n",
    "\n",
    "\n",
    "def load_fashion_mnist():\n",
    "    \"\"\"\n",
    "    Loads Fashion MNIST dataset.\n",
    "    \n",
    "    Adapted from: https://github.com/zalandoresearch/fashion-mnist/blob/master/utils/mnist_reader.py\n",
    "    \"\"\"\n",
    "    TRAIN_IMAGES = 'train-images-idx3-ubyte.gz'\n",
    "    TRAIN_LABELS = 'train-labels-idx1-ubyte.gz'    \n",
    "    TEST_IMAGES = 't10k-images-idx3-ubyte.gz'\n",
    "    TEST_LABELS = 't10k-labels-idx1-ubyte.gz'\n",
    "\n",
    "    with gzip.open(TRAIN_LABELS, 'rb') as tr_labels_file, gzip.open(TEST_LABELS, 'rb') as ts_labels_file:\n",
    "        train_labels = np.frombuffer(tr_labels_file.read(), dtype=np.uint8, offset=8)\n",
    "        test_labels = np.frombuffer(ts_labels_file.read(), dtype=np.uint8, offset=8)\n",
    "\n",
    "    with gzip.open(TRAIN_IMAGES, 'rb') as tr_images_file, gzip.open(TEST_IMAGES, 'rb') as ts_images_file:\n",
    "        train_images = np.frombuffer(tr_images_file.read(), dtype=np.uint8, offset=16).reshape(len(train_labels), 784)\n",
    "        test_images = np.frombuffer(ts_images_file.read(), dtype=np.uint8, offset=16).reshape(len(test_labels), 784)\n",
    "\n",
    "    return train_images, train_labels, test_images, test_labels"
   ]
  },
  {
   "cell_type": "code",
   "execution_count": 3,
   "id": "duplicate-diploma",
   "metadata": {},
   "outputs": [],
   "source": [
    "def pretty_print(image_example):\n",
    "    \"\"\" Pretty prints a Fashion MNIST example.\n",
    "\n",
    "    Parameters:\n",
    "        image_example: a 1x784 numpy array corresponding to the features of\n",
    "                       a single image.\n",
    "\n",
    "    Returns:\n",
    "        None.\n",
    "    \"\"\"\n",
    "    print(np.array_str(image_example, precision=1, max_line_width=116))\n"
   ]
  },
  {
   "cell_type": "code",
   "execution_count": 4,
   "id": "charged-arlington",
   "metadata": {},
   "outputs": [],
   "source": [
    "def usage_example():\n",
    "    \"\"\" Example of how to load and parse Fashion MNIST data. \"\"\"\n",
    "    \n",
    "    train_images, train_labels, test_images, test_labels = load_fashion_mnist()\n",
    "\n",
    "    # train_images is a 60,000 x 784 numpy matrix. There are 60k\n",
    "    # rows in the matrix, each row corresponding to a single example.\n",
    "    # There are 784 columns, each corresponding to the value of a\n",
    "    # single pixel in the 28x28 image after it has been \"flattened\".\n",
    "    print(\"Dimensions of training set feature matrix:\", train_images.shape)\n",
    "\n",
    "    # The labels for each example are maintained separately in train_labels.\n",
    "    # This is a 60,000 x 1 numpy matrix, where each element is the label\n",
    "    # for the corresponding training example.\n",
    "    print(\"Dimensions of training set label matrix:\", train_labels.shape)\n",
    "\n",
    "    # Example of how to access a individual training example (in this case,\n",
    "    # we pick an example at a random index). We could use print to output the\n",
    "    # raw pixel values to the screen, but pretty_print formats the data in \n",
    "    # a nicer way: if you squint, you may be able to make out the contours of\n",
    "    # the fashion article in the matrix data.\n",
    "    EXAMPLE_INDEX = np.random.randint(60000)\n",
    "    print(\"Features of training example at index {}:\\n\".format(EXAMPLE_INDEX))\n",
    "    pretty_print(train_images[EXAMPLE_INDEX])\n",
    "\n",
    "    # And here's the label that goes with that training example\n",
    "    print(\"\\nLabel of training example at index {}:\".format(EXAMPLE_INDEX), train_labels[EXAMPLE_INDEX], '\\n')\n",
    "\n",
    "    # Finally, let's visualize the example we've picked as a 28x28 image\n",
    "    plt.figure()\n",
    "    plt.imshow(train_images[EXAMPLE_INDEX].reshape(28, 28))\n",
    "    plt.show()\n",
    "    \n",
    "    # The test_images/test_labels are organized in the same way, but only contain 10k\n",
    "    # examples. Don't touch this data until your model is frozen! Perform all\n",
    "    # cross-validation, model selection, hyperparameter tuning etc. on the 60k\n",
    "    # training set. Use the test set simply for reporting performance.\n"
   ]
  },
  {
   "cell_type": "code",
   "execution_count": 9,
   "id": "advised-exhibition",
   "metadata": {},
   "outputs": [
    {
     "name": "stdout",
     "output_type": "stream",
     "text": [
      "Dimensions of training set feature matrix: (60000, 784)\n",
      "Dimensions of training set label matrix: (60000,)\n",
      "Features of training example at index 35680:\n",
      "\n",
      "[  0   0   0   1   0   0   0   0   0  73 168 200 191 128 156 203 228 168  53   0   0   0   0   0   0   0   0   0\n",
      "   0   0   3   0   0   0  91 213 255 255 255 245 234 254 110 226 247 255 255 255 198  81   0   0   0   0   0   0\n",
      "   0   0   0   0   0 194 249 238 227 225 223 231 236 227 170 225 233 228 225 233 240 249 172   0   0   0   0   0\n",
      "   0   0   3   0  69 247 220 224 226 225 228 230 231 233 252 235 224 228 232 227 222 222 249  81   0   1   0   0\n",
      "   0   0   0   0 199 240 228 234 226 233 241 242 237 239 231 232 243 231 229 227 231 223 237 208   0   0   0   0\n",
      "   0   0   0   7 233 233 236 235 230 227 225 221 222 214 227 244 208 233 232 229 226 225 228 232  19   0   0   0\n",
      "   0   0   0 113 250 229 239 232 238 211   0  50 163 103 113 167   0 229 237 229 228 235 225 244 114   0   0   0\n",
      "   0   0   0 206 240 230 237 242 239 203 123 156 229  34 130 175 100 255 222 231 229 232 228 239 195   0   0   0\n",
      "   0   0   0 214 234 232 237 247 229 238 255 252 249 244 255 235 243 232 225 228 251 235 230 232 214   0   0   0\n",
      "   0   0  86 248 224 227 232 242 234 230 223 227 225 227 223 227 228 230 226 229 207 232 225 223 247  80   0   0\n",
      "   0   0  68 197 238 248 255 211 240 233 232 228 227 226 229 228 226 226 229 230 255 255 246 231 197  78   0   0\n",
      "   0   0   0   0  24 122 144  48 255 230 232 229 229 228 228 228 230 227 220 249 147 147  81   9   0   0   0   0\n",
      "   0   0   0   0   0   0   0  17 255 221 233 229 229 228 228 228 228 229 216 255  58   0   0   0   0   0   0   0\n",
      "   0   0   0   1   3   8   0  66 255 228 233 229 229 228 228 228 229 229 221 255 102   0   7   5   0   0   0   0\n",
      "   0   0   0   0   0   5   0  85 243 228 233 230 229 228 228 228 228 228 222 242  95   0   3   0   0   0   0   0\n",
      "   0   0   0   0   0   3   0  95 246 226 232 232 228 230 230 229 228 228 220 242  89   0   3   0   0   0   0   0\n",
      "   0   0   0   0   0   3   0  93 246 227 232 231 228 229 230 229 228 230 221 239  87   0   3   0   0   0   0   0\n",
      "   0   0   0   0   0   3   0  88 245 227 232 231 228 230 230 229 228 231 222 240  85   0   3   0   0   0   0   0\n",
      "   0   0   0   0   0   3   0  99 245 227 232 231 229 229 229 229 228 230 222 241  93   0   3   0   0   0   0   0\n",
      "   0   0   0   0   0   3   0 120 247 227 233 231 230 228 229 230 228 230 222 241 119   0   3   0   0   0   0   0\n",
      "   0   0   0   0   0   3   0 122 246 226 233 231 230 229 230 230 229 228 223 242 130   0   3   0   0   0   0   0\n",
      "   0   0   0   0   0   0   0 171 244 228 232 231 230 229 231 231 230 225 223 241 144   0   2   0   0   0   0   0\n",
      "   0   0   0   0   1   0   0 224 238 229 231 231 230 230 231 231 231 231 219 238 186   0   0   0   0   0   0   0\n",
      "   0   0   0   0   2   0   0 255 233 230 231 231 231 230 230 231 232 232 222 233 235   0   0   2   0   0   0   0\n",
      "   0   0   0   0   3   0   0 225 233 230 232 232 232 231 231 232 232 228 228 229 204   0   0   2   0   0   0   0\n",
      "   0   0   0   0   3   0   0 219 228 226 223 222 223 222 222 224 224 225 225 225 206   0   0   3   0   0   0   0\n",
      "   0   0   0   0   3   0   0 229 248 244 255 255 255 255 255 255 255 255 239 242 225   0   0   3   0   0   0   0\n",
      "   0   0   0   0   2   0   0 125 124 118 120 123 124 131 135 137 139 140 125 110 120   0   0   2   0   0   0   0]\n",
      "\n",
      "Label of training example at index 35680: 0 \n",
      "\n"
     ]
    },
    {
     "data": {
      "image/png": "[encoded data removed]",
      "text/plain": [
       "<Figure size 432x288 with 1 Axes>"
      ]
     },
     "metadata": {
      "needs_background": "light"
     },
     "output_type": "display_data"
    }
   ],
   "source": [
    "usage_example()"
   ]
  },
  {
   "cell_type": "code",
   "execution_count": null,
   "id": "nervous-minneapolis",
   "metadata": {},
   "outputs": [],
   "source": []
  },
  {
   "cell_type": "code",
   "execution_count": null,
   "id": "dietary-running",
   "metadata": {},
   "outputs": [],
   "source": []
  }
 ],
 "metadata": {
  "kernelspec": {
   "display_name": "Python 3",
   "language": "python",
   "name": "python3"
  },
  "language_info": {
   "codemirror_mode": {
    "name": "ipython",
    "version": 3
   },
   "file_extension": ".py",
   "mimetype": "text/x-python",
   "name": "python",
   "nbconvert_exporter": "python",
   "pygments_lexer": "ipython3",
   "version": "3.7.9"
  }
 },
 "nbformat": 4,
 "nbformat_minor": 5
}
