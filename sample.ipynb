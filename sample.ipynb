{
 "cells": [
  {
   "cell_type": "code",
   "execution_count": 1,
   "id": "cooked-northern",
   "metadata": {},
   "outputs": [],
   "source": [
    "import gzip\n",
    "import numpy as np\n",
    "import matplotlib.pyplot as plt\n",
    "\n",
    "\n",
    "def load_fashion_mnist():\n",
    "    \"\"\"\n",
    "    Loads Fashion MNIST dataset.\n",
    "    \n",
    "    Adapted from: https://github.com/zalandoresearch/fashion-mnist/blob/master/utils/mnist_reader.py\n",
    "    \"\"\"\n",
    "    TRAIN_IMAGES = 'train-images-idx3-ubyte.gz'\n",
    "    TRAIN_LABELS = 'train-labels-idx1-ubyte.gz'    \n",
    "    TEST_IMAGES = 't10k-images-idx3-ubyte.gz'\n",
    "    TEST_LABELS = 't10k-labels-idx1-ubyte.gz'\n",
    "\n",
    "    with gzip.open(TRAIN_LABELS, 'rb') as tr_labels_file, gzip.open(TEST_LABELS, 'rb') as ts_labels_file:\n",
    "        train_labels = np.frombuffer(tr_labels_file.read(), dtype=np.uint8, offset=8)\n",
    "        test_labels = np.frombuffer(ts_labels_file.read(), dtype=np.uint8, offset=8)\n",
    "\n",
    "    with gzip.open(TRAIN_IMAGES, 'rb') as tr_images_file, gzip.open(TEST_IMAGES, 'rb') as ts_images_file:\n",
    "        train_images = np.frombuffer(tr_images_file.read(), dtype=np.uint8, offset=16).reshape(len(train_labels), 784)\n",
    "        test_images = np.frombuffer(ts_images_file.read(), dtype=np.uint8, offset=16).reshape(len(test_labels), 784)\n",
    "\n",
    "    return train_images, train_labels, test_images, test_labels"
   ]
  },
  {
   "cell_type": "code",
   "execution_count": 2,
   "id": "quarterly-franklin",
   "metadata": {},
   "outputs": [],
   "source": [
    "def pretty_print(image_example):\n",
    "    \"\"\" Pretty prints a Fashion MNIST example.\n",
    "\n",
    "    Parameters:\n",
    "        image_example: a 1x784 numpy array corresponding to the features of\n",
    "                       a single image.\n",
    "\n",
    "    Returns:\n",
    "        None.\n",
    "    \"\"\"\n",
    "    print(np.array_str(image_example, precision=1, max_line_width=116))\n"
   ]
  },
  {
   "cell_type": "code",
   "execution_count": 7,
   "id": "indian-mistress",
   "metadata": {},
   "outputs": [],
   "source": [
    "def usage_example():\n",
    "    \"\"\" Example of how to load and parse Fashion MNIST data. \"\"\"\n",
    "    \n",
    "    train_images, train_labels, test_images, test_labels = load_fashion_mnist()\n",
    "\n",
    "    # train_images is a 60,000 x 784 numpy matrix. There are 60k\n",
    "    # rows in the matrix, each row corresponding to a single example.\n",
    "    # There are 784 columns, each corresponding to the value of a\n",
    "    # single pixel in the 28x28 image after it has been \"flattened\".\n",
    "    print(\"Dimensions of training set feature matrix:\", train_images.shape)\n",
    "\n",
    "    # The labels for each example are maintained separately in train_labels.\n",
    "    # This is a 60,000 x 1 numpy matrix, where each element is the label\n",
    "    # for the corresponding training example.\n",
    "    print(\"Dimensions of training set label matrix:\", train_labels.shape)\n",
    "\n",
    "    # Example of how to access a individual training example (in this case,\n",
    "    # we pick an example at a random index). We could use print to output the\n",
    "    # raw pixel values to the screen, but pretty_print formats the data in \n",
    "    # a nicer way: if you squint, you may be able to make out the contours of\n",
    "    # the fashion article in the matrix data.\n",
    "    EXAMPLE_INDEX = np.random.randint(60000)\n",
    "    print(\"Features of training example at index {}:\\n\".format(EXAMPLE_INDEX))\n",
    "    pretty_print(train_images[EXAMPLE_INDEX])\n",
    "\n",
    "    # And here's the label that goes with that training example\n",
    "    print(\"\\nLabel of training example at index {}:\".format(EXAMPLE_INDEX), train_labels[EXAMPLE_INDEX], '\\n')\n",
    "\n",
    "    # Finally, let's visualize the example we've picked as a 28x28 image\n",
    "    plt.figure()\n",
    "    plt.imshow(train_images[EXAMPLE_INDEX].reshape(28, 28))\n",
    "    plt.show()\n",
    "    \n",
    "    # The test_images/test_labels are organized in the same way, but only contain 10k\n",
    "    # examples. Don't touch this data until your model is frozen! Perform all\n",
    "    # cross-validation, model selection, hyperparameter tuning etc. on the 60k\n",
    "    # training set. Use the test set simply for reporting performance.\n"
   ]
  },
  {
   "cell_type": "code",
   "execution_count": 6,
   "id": "detailed-railway",
   "metadata": {},
   "outputs": [
    {
     "name": "stdout",
     "output_type": "stream",
     "text": [
      "Dimensions of training set feature matrix: (60000, 784)\n",
      "Dimensions of training set label matrix: (60000,)\n",
      "Features of training example at index 53902:\n",
      "\n",
      "[  0   0   0   0   0   0   0   0   0   0   0   1  95 108 112 104  94  44   0   0   0   0   0   0   0   0   0   0\n",
      "   0   0   0   0   0   0   0   0   0   0 147 231 233 225 250 248 218 233 220   0   0   0   0   0   0   0   0   0\n",
      "   0   0   0   0   0   0   1   2   0 116 248 202 213 209 208 206 200 198 233 102   0   3   0   0   0   0   0   0\n",
      "   0   0   0   0   0   2   1   0   0 207 199 182 230 229 218 216 210 195 210 240   0   0   0   0   0   0   0   0\n",
      "   0   0   0   0   0   0   0   0 111 215 215 191 209 231 250 218 212 193 232 221 174  44   0   0   0   0   0   0\n",
      "   0   0   0   0   0   0  66 200 222 210 202 216 224 203 202 215 226 213 218 213 225 225 195   0   0   0   0   0\n",
      "   0   0   0   0   0   0 189 206 196 204 216 213 211 211 210 208 213 213 210 211 207 202 232 109   0   0   0   0\n",
      "   0   0   0   0   0  83 216 191 202 202 201 200 203 207 213 213 207 211 212 211 214 209 219 205   0   0   0   0\n",
      "   0   0   0   0   0 158 219 206 209 209 213 211 213 226 124 207 212 216 216 215 214 213 216 206   0   0   0   0\n",
      "   0   0   0   0   0 198 215 211 189 194 200 195 193 207 181 204 203 202 204 203 202 210 213 216   7   0   0   0\n",
      "   0   0   0   0   0 219 213 217 225 213 213 205 204 211 188 217 213 211 216 217 220 226 211 253  31   0   0   0\n",
      "   0   0   0   0   0 235 211 222 210 181 197 201 199 202 184 203 205 201 203 193 201 229 212 253  56   0   0   0\n",
      "   0   0   0   0   1 238 209 225 228 212 222 223 217 215 198 216 221 223 230 215 233 239 211 253  72   0   0   0\n",
      "   0   0   0   0  26 246 209 239 164 196 192 197 195 201 209 211 198 202 203 197 219 238 213 252  74   0   0   0\n",
      "   0   0   0   0  49 248 210 241 176 224 216 218 218 223 208 222 225 223 218 226 190 232 216 252  76   0   0   0\n",
      "   0   0   0   0  65 247 212 241 176 201 192 191 192 206 200 201 199 199 187 215 183 235 220 250  82   0   0   0\n",
      "   0   0   0   0  75 247 212 241 151 225 216 221 221 226 197 225 226 225 218 237 167 229 220 247 101   0   0   0\n",
      "   0   0   0   0  82 246 216 234 147 227 203 201 195 205 202 201 198 210 205 236 152 223 223 248 127   0   0   0\n",
      "   0   0   0   0  92 246 221 230 106 218 216 218 218 226 203 217 224 221 223 218 133 226 222 250 110   0   0   0\n",
      "   0   0   0   0  90 243 222 213  92 196 198 195 200 208 196 214 206 201 208 217 111 208 227 245  91   0   0   0\n",
      "   0   0   0   0 102 219 222 200  70 225 222 219 218 220 210 216 224 225 220 244 125 169 229 244  98   0   0   0\n",
      "   0   0   0   0 122 221 228 190  86 229 200 201 203 214 209 214 208 207 202 231 145 177 229 223 117   0   0   0\n",
      "   0   0   0   0 137 219 230 171  65 247 215 218 220 221 207 217 223 228 221 249 143 142 234 221 141   0   0   0\n",
      "   0   0   0   0 136 216 237 137  96 248 198 211 209 219 204 213 212 204 199 230 151 119 253 220 139   0   0   0\n",
      "   0   0   0   0 136 218 237 103  93 251 205 213 209 221 199 217 220 217 216 247 172  90 254 220 137   0   0   0\n",
      "   0   0   0   0 110 216 238  58 128 252 213 218 223 226 203 216 222 221 216 222 211  73 229 222 127   0   0   0\n",
      "   0   0   0   0 141 220 238  49 144 255 207 217 215 220 215 220 219 217 211 243 231  45 255 224 129   0   0   0\n",
      "   0   0   0   0  45 203 224  26  11 206 194 201 202 206 198 206 207 211 205 214  69   0 229 225  96   0   0   0]\n",
      "\n",
      "Label of training example at index 53902: 4 \n",
      "\n"
     ]
    },
    {
     "data": {
      "image/png": "[encoded data removed]",
      "text/plain": [
       "<Figure size 432x288 with 1 Axes>"
      ]
     },
     "metadata": {
      "needs_background": "light"
     },
     "output_type": "display_data"
    }
   ],
   "source": [
    "usage_example()"
   ]
  },
  {
   "cell_type": "code",
   "execution_count": null,
   "id": "chicken-scenario",
   "metadata": {},
   "outputs": [],
   "source": []
  },
  {
   "cell_type": "code",
   "execution_count": null,
   "id": "musical-recovery",
   "metadata": {},
   "outputs": [],
   "source": []
  }
 ],
 "metadata": {
  "kernelspec": {
   "display_name": "Python 3",
   "language": "python",
   "name": "python3"
  },
  "language_info": {
   "codemirror_mode": {
    "name": "ipython",
    "version": 3
   },
   "file_extension": ".py",
   "mimetype": "text/x-python",
   "name": "python",
   "nbconvert_exporter": "python",
   "pygments_lexer": "ipython3",
   "version": "3.7.9"
  }
 },
 "nbformat": 4,
 "nbformat_minor": 5
}
